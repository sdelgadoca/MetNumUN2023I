{
  "cells": [
    {
      "cell_type": "markdown",
      "metadata": {
        "id": "_7zSSeX21Grj"
      },
      "source": [
        "# Simple iteration for systems of linear equations"
      ]
    },
    {
      "cell_type": "markdown",
      "metadata": {
        "id": "GRz8VJ0N1Grn"
      },
      "source": [
        "First, generate a random diagonally dominant matrix, for testing."
      ]
    },
    {
      "cell_type": "code",
      "execution_count": null,
      "metadata": {
        "collapsed": true,
        "id": "jTVkb-WZ1Gro"
      },
      "outputs": [],
      "source": [
        "import numpy as np\n",
        "rndm = np.random.RandomState(1234)\n",
        "\n",
        "n = 10\n",
        "A = rndm.uniform(size=(n, n)) + np.diagflat([15]*n)\n",
        "b = rndm.uniform(size=n)"
      ]
    },
    {
      "cell_type": "code",
      "source": [
        "A"
      ],
      "metadata": {
        "id": "4mv5q-nMKZwY",
        "outputId": "2ce68a0e-720e-4f8c-b778-9608d66dd67a",
        "colab": {
          "base_uri": "https://localhost:8080/"
        }
      },
      "execution_count": null,
      "outputs": [
        {
          "output_type": "execute_result",
          "data": {
            "text/plain": [
              "array([[1.51915195e+01, 6.22108771e-01, 4.37727739e-01, 7.85358584e-01,\n",
              "        7.79975808e-01, 2.72592605e-01, 2.76464255e-01, 8.01872178e-01,\n",
              "        9.58139354e-01, 8.75932635e-01],\n",
              "       [3.57817270e-01, 1.55009951e+01, 6.83462935e-01, 7.12702027e-01,\n",
              "        3.70250755e-01, 5.61196186e-01, 5.03083165e-01, 1.37684496e-02,\n",
              "        7.72826622e-01, 8.82641191e-01],\n",
              "       [3.64885984e-01, 6.15396178e-01, 1.50753812e+01, 3.68824006e-01,\n",
              "        9.33140102e-01, 6.51378143e-01, 3.97202578e-01, 7.88730143e-01,\n",
              "        3.16836122e-01, 5.68098653e-01],\n",
              "       [8.69127390e-01, 4.36173424e-01, 8.02147642e-01, 1.51437668e+01,\n",
              "        7.04260971e-01, 7.04581308e-01, 2.18792106e-01, 9.24867629e-01,\n",
              "        4.42140755e-01, 9.09315959e-01],\n",
              "       [5.98092228e-02, 1.84287084e-01, 4.73552788e-02, 6.74880944e-01,\n",
              "        1.55946248e+01, 5.33310163e-01, 4.33240627e-02, 5.61433080e-01,\n",
              "        3.29668446e-01, 5.02966833e-01],\n",
              "       [1.11894318e-01, 6.07193706e-01, 5.65944643e-01, 6.76406199e-03,\n",
              "        6.17441709e-01, 1.59121229e+01, 7.90524133e-01, 9.92081466e-01,\n",
              "        9.58801762e-01, 7.91964135e-01],\n",
              "       [2.85250960e-01, 6.24916705e-01, 4.78093796e-01, 1.95675179e-01,\n",
              "        3.82317452e-01, 5.38736851e-02, 1.54516484e+01, 9.82004742e-01,\n",
              "        1.23942700e-01, 1.19380898e-01],\n",
              "       [7.38523056e-01, 5.87303633e-01, 4.71632534e-01, 1.07126817e-01,\n",
              "        2.29218565e-01, 8.99965195e-01, 4.16753538e-01, 1.55358517e+01,\n",
              "        6.20851659e-03, 3.00641706e-01],\n",
              "       [4.36893172e-01, 6.12148997e-01, 9.18198075e-01, 6.25736670e-01,\n",
              "        7.05997565e-01, 1.49833716e-01, 7.46063409e-01, 8.31006992e-01,\n",
              "        1.56337258e+01, 4.38309881e-01],\n",
              "       [1.52572775e-01, 5.68409615e-01, 5.28224278e-01, 9.51428764e-01,\n",
              "        4.80359179e-01, 5.02559563e-01, 5.36878193e-01, 8.19202067e-01,\n",
              "        5.71156381e-02, 1.56694217e+01]])"
            ]
          },
          "metadata": {},
          "execution_count": 3
        }
      ]
    },
    {
      "cell_type": "markdown",
      "metadata": {
        "id": "oNGIGBex1Grq"
      },
      "source": [
        "# I.  Jacobi iteration\n",
        "\n",
        "Given\n",
        "\n",
        "$$\n",
        "A x = b\n",
        "$$\n",
        "\n",
        "separate the diagonal part $D$,\n",
        "\n",
        "$$ A = D + (A - D) $$\n",
        "\n",
        "and write\n",
        "\n",
        "$$\n",
        "x = D^{-1} (D - A) x + D^{-1} b\\;.\n",
        "$$\n",
        "\n",
        "Then iterate\n",
        "\n",
        "$$\n",
        "x_{n + 1} = B x_{n} + c\\;,\n",
        "$$\n",
        "\n",
        "where \n",
        "\n",
        "$$\n",
        "B = D^{-1} (A - D) \\qquad \\text{and} \\qquad c = D^{-1} b\n",
        "$$\n"
      ]
    },
    {
      "cell_type": "markdown",
      "metadata": {
        "id": "rB2PHHIK1Grr"
      },
      "source": [
        "Let's construct the matrix and the r.h.s. for the Jacobi iteration"
      ]
    },
    {
      "cell_type": "code",
      "execution_count": null,
      "metadata": {
        "id": "bnk796g61Grr"
      },
      "outputs": [],
      "source": [
        "diag_1d = np.diag(A)\n",
        "\n",
        "B = -A.copy()\n",
        "np.fill_diagonal(B, 0)\n",
        "\n",
        "D = np.diag(diag_1d)\n",
        "invD = np.diag(1./diag_1d)\n",
        "BB = invD @ B \n",
        "c = invD @ b"
      ]
    },
    {
      "cell_type": "code",
      "execution_count": null,
      "metadata": {
        "id": "0NTUyC3i1Grs"
      },
      "outputs": [],
      "source": [
        "# sanity checks\n",
        "from numpy.testing import assert_allclose\n",
        "\n",
        "assert_allclose(-B + D, A)\n",
        "\n",
        "\n",
        "# xx is a \"ground truth\" solution, compute it using a direct method\n",
        "xx = np.linalg.solve(A, b)\n",
        "\n",
        "np.testing.assert_allclose(A@xx, b)\n",
        "np.testing.assert_allclose(D@xx, B@xx + b)\n",
        "np.testing.assert_allclose(xx, BB@xx + c)"
      ]
    },
    {
      "cell_type": "markdown",
      "metadata": {
        "id": "nRaVUE6U1Grt"
      },
      "source": [
        "Check that $\\| B\\| \\leqslant 1$:"
      ]
    },
    {
      "cell_type": "code",
      "execution_count": null,
      "metadata": {
        "id": "zgED2OGu1Gru",
        "outputId": "8c692460-8b50-4ddd-ae1b-769313207162",
        "colab": {
          "base_uri": "https://localhost:8080/"
        }
      },
      "outputs": [
        {
          "output_type": "execute_result",
          "data": {
            "text/plain": [
              "0.36436161983015336"
            ]
          },
          "metadata": {},
          "execution_count": 6
        }
      ],
      "source": [
        "np.linalg.norm(BB)"
      ]
    },
    {
      "cell_type": "markdown",
      "metadata": {
        "id": "rlBcusqg1Grv"
      },
      "source": [
        "### Do the Jacobi iteration"
      ]
    },
    {
      "cell_type": "code",
      "execution_count": null,
      "metadata": {
        "collapsed": true,
        "id": "NK6iwDtm1Grv"
      },
      "outputs": [],
      "source": [
        "n_iter = 50\n",
        "\n",
        "x0 = np.ones(n)\n",
        "x = x0\n",
        "for _ in range(n_iter):\n",
        "    x = BB @ x + c"
      ]
    },
    {
      "cell_type": "code",
      "execution_count": null,
      "metadata": {
        "id": "gsLyio7W1Grw",
        "outputId": "5d840894-d329-47e8-9600-99da2c685da8",
        "colab": {
          "base_uri": "https://localhost:8080/"
        }
      },
      "outputs": [
        {
          "output_type": "execute_result",
          "data": {
            "text/plain": [
              "array([ 1.11022302e-16,  0.00000000e+00, -2.22044605e-16, -1.11022302e-16,\n",
              "        1.11022302e-16,  0.00000000e+00, -2.42861287e-17,  0.00000000e+00,\n",
              "       -2.77555756e-17,  1.11022302e-16])"
            ]
          },
          "metadata": {},
          "execution_count": 8
        }
      ],
      "source": [
        "# Check the result:\n",
        "\n",
        "A @ x - b"
      ]
    },
    {
      "cell_type": "markdown",
      "metadata": {
        "id": "MXfb9BuT1Grw"
      },
      "source": [
        "### Task I.1\n",
        "\n",
        "Collect the proof-of-concept above into a single function implementing the Jacobi iteration. This function should receive the r.h.s. matrix $A$, the l.h.s. vector `b`, and the number of iterations to perform.\n",
        "\n",
        "\n",
        "The matrix $A$ in the illustration above is strongly diagonally dominant, by construction. \n",
        "What happens if the diagonal matrix elements of $A$ are made smaller? Check the convergence of the Jacobi iteration, and check the value of the norm of $B$.\n",
        "\n",
        "(20% of the total grade)\n"
      ]
    },
    {
      "cell_type": "code",
      "execution_count": 7,
      "metadata": {
        "collapsed": true,
        "id": "5zqTUVVa1Grw"
      },
      "outputs": [],
      "source": [
        "# ... ENTER YOUR CODE HERE ...\n",
        "import numpy as np\n",
        "from numpy.linalg import norm\n",
        "\n",
        "def jacobi_iteration(A, b, num_iterations):\n",
        "    n = len(A)\n",
        "    x = np.zeros(n)\n",
        "    x_new = np.zeros(n)\n",
        "    \n",
        "    for _ in range(num_iterations):\n",
        "        for i in range(n):\n",
        "            x_new[i] = (b[i] - np.dot(A[i, :i], x[:i]) - np.dot(A[i, i+1:], x[i+1:])) / A[i, i]\n",
        "        x = x_new.copy()\n",
        "        \n",
        "        B = np.matmul(A, x) - b\n",
        "        norm_B = norm(B)\n",
        "        print(f\"Iteration {_+1}: Norm of B = {norm_B}\")\n",
        "    \n",
        "    return x"
      ]
    },
    {
      "cell_type": "code",
      "source": [
        "A = np.array([[9, 4, 1],\n",
        "              [2, 5, 2],\n",
        "              [1, 3, 9]])\n",
        "b = np.array([6, -7, 5])\n",
        "num_iterations = 4\n",
        "\n",
        "\n",
        "result = jacobi_iteration(A, b, num_iterations)\n",
        "print(\"Final result:\", result)"
      ],
      "metadata": {
        "colab": {
          "base_uri": "https://localhost:8080/"
        },
        "id": "fxl9W14Bye-O",
        "outputId": "0bc43339-ea86-44c3-9dec-093184ddc10b"
      },
      "execution_count": 15,
      "outputs": [
        {
          "output_type": "stream",
          "name": "stdout",
          "text": [
            "Iteration 1: Norm of B = 6.626173317949521\n",
            "Iteration 2: Norm of B = 2.6263086895343566\n",
            "Iteration 3: Norm of B = 1.8084642560080106\n",
            "Iteration 4: Norm of B = 0.6496155628553975\n",
            "Final result: [ 1.55907331 -2.37986283  1.15661637]\n"
          ]
        }
      ]
    },
    {
      "cell_type": "markdown",
      "metadata": {
        "id": "xBnguRFT1Grx"
      },
      "source": [
        "# II. Seidel's iteration."
      ]
    },
    {
      "cell_type": "markdown",
      "metadata": {
        "id": "rSbuFdYU1Grx"
      },
      "source": [
        "##### Task II.1\n",
        "\n",
        "Implement the Seidel's iteration. \n",
        "\n",
        "Test it on a random matrix. Study the convergence of iterations, relate to the norm of the iteration matrix.\n",
        "\n",
        "(30% of the total grade)"
      ]
    },
    {
      "cell_type": "code",
      "execution_count": 17,
      "metadata": {
        "collapsed": true,
        "id": "FYygs3Ml1Grx"
      },
      "outputs": [],
      "source": [
        "# ... ENTER YOUR CODE HERE ...\n",
        "import numpy as np\n",
        "from numpy.linalg import norm\n",
        "\n",
        "def gauss_seidel_iteration(A, b, num_iterations):\n",
        "    n = len(A)\n",
        "    x = np.zeros(n)\n",
        "    \n",
        "    for _ in range(num_iterations):\n",
        "        for i in range(n):\n",
        "            x[i] = (b[i] - np.dot(A[i, :i], x[:i]) - np.dot(A[i, i+1:], x[i+1:])) / A[i, i]\n",
        "    \n",
        "        B = np.matmul(A, x) - b\n",
        "        norm_B = norm(B)\n",
        "        print(f\"Iteration {_+1}: Norm of B = {norm_B}\")\n",
        "    \n",
        "    return x"
      ]
    },
    {
      "cell_type": "code",
      "source": [
        "n = 4  # Size of the matrix\n",
        "A = np.random.rand(n, n)\n",
        "b = np.random.rand(n)\n",
        "num_iterations = 10\n",
        "\n",
        "result = gauss_seidel_iteration(A, b, num_iterations)\n",
        "print(\"Final result:\", result)"
      ],
      "metadata": {
        "colab": {
          "base_uri": "https://localhost:8080/"
        },
        "id": "w0v4HgOL68Wi",
        "outputId": "5f4e9438-2bb6-41e4-cb27-66dadc567f25"
      },
      "execution_count": 19,
      "outputs": [
        {
          "output_type": "stream",
          "name": "stdout",
          "text": [
            "Iteration 1: Norm of B = 0.47115482880698306\n",
            "Iteration 2: Norm of B = 0.4682065461401488\n",
            "Iteration 3: Norm of B = 1.1522340723326459\n",
            "Iteration 4: Norm of B = 3.1400496009127585\n",
            "Iteration 5: Norm of B = 8.61689820683844\n",
            "Iteration 6: Norm of B = 23.657183585657798\n",
            "Iteration 7: Norm of B = 64.95132680978035\n",
            "Iteration 8: Norm of B = 178.32566714938162\n",
            "Iteration 9: Norm of B = 489.5981215427655\n",
            "Iteration 10: Norm of B = 1344.2053880193603\n",
            "Final result: [ -229.90788346  -157.40250978 -2614.86989    10427.19235299]\n"
          ]
        }
      ]
    },
    {
      "cell_type": "markdown",
      "metadata": {
        "id": "y3PDxY8W1Gry"
      },
      "source": [
        "# III. Minimum residual scheme"
      ]
    },
    {
      "cell_type": "markdown",
      "metadata": {
        "id": "IbfUD6zy1Gry"
      },
      "source": [
        "### Task III.1\n",
        "\n",
        "Implement the $\\textit{minimum residual}$ scheme: an explicit non-stationary method, where at each step you select the iteration parameter $\\tau_n$ to minimize the residual $\\mathbf{r}_{n+1}$ given $\\mathbf{r}_n$. Test it on a random matrix, study the convergence to the solution, in terms of the norm of the residual and the deviation from the ground truth solution (which you can obtain using a direct method). Study how the iteration parameter $\\tau_n$ changes as iterations progress.\n",
        "\n",
        "(50% of the grade)"
      ]
    },
    {
      "cell_type": "code",
      "execution_count": 21,
      "metadata": {
        "collapsed": true,
        "id": "60_IGETi1Gry"
      },
      "outputs": [],
      "source": [
        "# ... ENTER YOUR CODE HERE ...\n",
        "import numpy as np\n",
        "from numpy.linalg import norm, solve\n",
        "\n",
        "\n",
        "def minres(A, b, num_iterations):\n",
        "    n = len(A)\n",
        "    x = np.zeros(n)\n",
        "    r = b - np.dot(A, x)\n",
        "    p = r.copy()\n",
        "    norm_b = norm(b)\n",
        "    \n",
        "    for k in range(num_iterations):\n",
        "        Ap = np.dot(A, p)\n",
        "        alpha = np.dot(r, r) / np.dot(p, Ap)\n",
        "        x += alpha * p\n",
        "        r -= alpha * Ap\n",
        "        \n",
        "        residual_norm = norm(r)\n",
        "        deviation = norm(x - solve(A, b))\n",
        "        tau = np.dot(r, Ap) / np.dot(Ap, Ap)\n",
        "        \n",
        "        print(f\"Iteration {k+1}: Residual Norm = {residual_norm}, Deviation = {deviation}, Tau = {tau}\")\n",
        "        \n",
        "        if residual_norm / norm_b < 1e-6:\n",
        "            break\n",
        "        \n",
        "        beta = np.dot(r, r) / np.dot(Ap, Ap)\n",
        "        p = r + beta * p\n",
        "    \n",
        "    return x"
      ]
    },
    {
      "cell_type": "code",
      "source": [
        "n = 8  # Size of the matrix\n",
        "A = np.random.rand(n, n)\n",
        "b = np.random.rand(n)\n",
        "num_iterations = 10\n",
        "\n",
        "result = minres(A, b, num_iterations)\n",
        "print(\"Final result:\", result)"
      ],
      "metadata": {
        "colab": {
          "base_uri": "https://localhost:8080/"
        },
        "id": "pbog9GOS7ejG",
        "outputId": "54c500dd-bb57-4992-a97a-e96a03ba7a2a"
      },
      "execution_count": 22,
      "outputs": [
        {
          "output_type": "stream",
          "name": "stdout",
          "text": [
            "Iteration 1: Residual Norm = 0.47088471249107333, Deviation = 1.0931128183914578, Tau = -0.015205071305713058\n",
            "Iteration 2: Residual Norm = 4.703617727164354, Deviation = 5.075321901790385, Tau = -9.710085196622206\n",
            "Iteration 3: Residual Norm = 12.647081241627847, Deviation = 17.614807269858133, Tau = 0.3654060383997934\n",
            "Iteration 4: Residual Norm = 10.447742748352281, Deviation = 16.20671631810815, Tau = -0.19557702041804415\n",
            "Iteration 5: Residual Norm = 14.592839292809803, Deviation = 17.8855834632457, Tau = -0.4808208815156215\n",
            "Iteration 6: Residual Norm = 15.864886510857293, Deviation = 21.875356611657075, Tau = -0.36589202944585547\n",
            "Iteration 7: Residual Norm = 19.38214778083515, Deviation = 25.741190054227218, Tau = -0.450679106997556\n",
            "Iteration 8: Residual Norm = 21.416752177686497, Deviation = 30.947126423395552, Tau = -0.3550303371400915\n",
            "Iteration 9: Residual Norm = 23.560777604261045, Deviation = 35.21373840129604, Tau = -0.38178405893279155\n",
            "Iteration 10: Residual Norm = 37.84151676227771, Deviation = 41.56043548671284, Tau = -0.5949800883308952\n",
            "Final result: [-12.71784173 -14.85408765 -17.26403975   1.07382944   3.3725583\n",
            "  16.08666899 -13.23145512  24.19479939]\n"
          ]
        }
      ]
    }
  ],
  "metadata": {
    "kernelspec": {
      "display_name": "Python 3",
      "language": "python",
      "name": "python3"
    },
    "language_info": {
      "codemirror_mode": {
        "name": "ipython",
        "version": 3
      },
      "file_extension": ".py",
      "mimetype": "text/x-python",
      "name": "python",
      "nbconvert_exporter": "python",
      "pygments_lexer": "ipython3",
      "version": "3.5.2"
    },
    "colab": {
      "provenance": []
    }
  },
  "nbformat": 4,
  "nbformat_minor": 0
}