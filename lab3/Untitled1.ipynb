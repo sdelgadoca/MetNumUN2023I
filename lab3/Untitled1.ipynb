{
  "nbformat": 4,
  "nbformat_minor": 0,
  "metadata": {
    "colab": {
      "provenance": []
    },
    "kernelspec": {
      "name": "python3",
      "display_name": "Python 3"
    },
    "language_info": {
      "name": "python"
    }
  },
  "cells": [
    {
      "cell_type": "markdown",
      "source": [
        "https://www.linkedin.com/in/sebastian-delgado-cabrera-6bbb3b268/\n"
      ],
      "metadata": {
        "id": "Da2b9dDFQq2w"
      }
    }
  ]
}